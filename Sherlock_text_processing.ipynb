{
 "cells": [
  {
   "cell_type": "markdown",
   "id": "52c389b4",
   "metadata": {},
   "source": [
    "# Sherlock"
   ]
  },
  {
   "cell_type": "code",
   "execution_count": null,
   "id": "2405a139",
   "metadata": {},
   "outputs": [],
   "source": [
    "#!wget https://www.gutenberg.org/files/1661/1661-0.txt > sherlock.txt"
   ]
  },
  {
   "cell_type": "code",
   "execution_count": null,
   "id": "f13f3fec",
   "metadata": {},
   "outputs": [],
   "source": [
    "!pip install -qU sentence-transformers bioinfokit"
   ]
  },
  {
   "cell_type": "code",
   "execution_count": null,
   "id": "ef1e0cef",
   "metadata": {},
   "outputs": [],
   "source": [
    "from nltk import sent_tokenize, word_tokenize\n",
    "import nltk\n",
    "\n",
    "nltk.download('punkt')"
   ]
  },
  {
   "cell_type": "code",
   "execution_count": null,
   "id": "4421d387",
   "metadata": {},
   "outputs": [],
   "source": [
    "f = open('sherlock.txt', 'r')\n",
    "contents = f.read().replace('\\n', ' ')\n",
    "print(contents[:2000])"
   ]
  },
  {
   "cell_type": "code",
   "execution_count": null,
   "id": "beec29d5",
   "metadata": {},
   "outputs": [],
   "source": [
    "sent_text = sent_tokenize(contents)\n",
    "print(sent_text[:30])\n",
    "\n",
    "# for sentence in sent_text:\n",
    "#     tokenized_text = nltk.word_tokenize(sent_text)\n",
    "# tagged = nltk.pos_tag(tokenized_text)\n",
    "# print(tagged)\n",
    "# print(tokenized_text[:40])"
   ]
  },
  {
   "cell_type": "code",
   "execution_count": null,
   "id": "5073fc9e",
   "metadata": {},
   "outputs": [],
   "source": [
    "from sentence_transformers import SentenceTransformer\n",
    "model = SentenceTransformer('all-MiniLM-L6-v2')\n",
    "sentence_embeddings = model.encode(sent_text)"
   ]
  },
  {
   "cell_type": "code",
   "execution_count": null,
   "id": "68fc2da6",
   "metadata": {},
   "outputs": [],
   "source": [
    "print(sentence_embeddings.shape)"
   ]
  },
  {
   "cell_type": "code",
   "execution_count": null,
   "id": "936d4fc5",
   "metadata": {},
   "outputs": [],
   "source": [
    "from sklearn.manifold import TSNE\n",
    "tsne_emb = TSNE(n_components=2, perplexity=30.0, n_iter=1000, verbose=1).fit_transform(sentence_embeddings)"
   ]
  },
  {
   "cell_type": "code",
   "execution_count": null,
   "id": "7f6d734e",
   "metadata": {},
   "outputs": [],
   "source": [
    "# https://www.reneshbedre.com/blog/tsne.html\n",
    "\n",
    "from bioinfokit.visuz import cluster\n",
    "cluster.tsneplot(score=tsne_emb, dotsize=1)\n",
    "# color_class = sentence_y\n",
    "# cluster.tsneplot(score=fashion_tsne, colorlist=color_class, legendpos='upper right', legendanchor=(1.15, 1) )"
   ]
  },
  {
   "cell_type": "code",
   "execution_count": null,
   "id": "bdeee944",
   "metadata": {},
   "outputs": [],
   "source": [
    "from IPython.display import Image\n",
    "Image(filename='tsne_2d.png') "
   ]
  },
  {
   "cell_type": "code",
   "execution_count": null,
   "id": "f9b92637",
   "metadata": {},
   "outputs": [],
   "source": []
  }
 ],
 "metadata": {
  "kernelspec": {
   "display_name": "conda_tensorflow_p36",
   "language": "python",
   "name": "conda_tensorflow_p36"
  },
  "language_info": {
   "codemirror_mode": {
    "name": "ipython",
    "version": 3
   },
   "file_extension": ".py",
   "mimetype": "text/x-python",
   "name": "python",
   "nbconvert_exporter": "python",
   "pygments_lexer": "ipython3",
   "version": "3.6.13"
  }
 },
 "nbformat": 4,
 "nbformat_minor": 5
}
