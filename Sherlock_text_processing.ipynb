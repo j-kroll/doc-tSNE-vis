{
 "cells": [
  {
   "cell_type": "markdown",
   "id": "c58e6652",
   "metadata": {},
   "source": [
    "# Sherlock"
   ]
  },
  {
   "cell_type": "code",
   "execution_count": null,
   "id": "85e373ec",
   "metadata": {},
   "outputs": [],
   "source": [
    "#!wget https://www.gutenberg.org/files/1661/1661-0.txt > sherlock.txt"
   ]
  },
  {
   "cell_type": "code",
   "execution_count": null,
   "id": "b8fcc105",
   "metadata": {},
   "outputs": [],
   "source": [
    "!pip install -qU sentence-transformers bioinfokit mplcursors"
   ]
  },
  {
   "cell_type": "code",
   "execution_count": null,
   "id": "0a9496e3",
   "metadata": {},
   "outputs": [],
   "source": [
    "from nltk import sent_tokenize, word_tokenize\n",
    "import nltk\n",
    "\n",
    "nltk.download('punkt')"
   ]
  },
  {
   "cell_type": "code",
   "execution_count": null,
   "id": "964754c2",
   "metadata": {},
   "outputs": [],
   "source": [
    "f = open('sherlock.txt', 'r')\n",
    "contents = f.read().replace('\\n', ' ')\n",
    "print(contents[:2000])"
   ]
  },
  {
   "cell_type": "code",
   "execution_count": null,
   "id": "91d375d7",
   "metadata": {},
   "outputs": [],
   "source": [
    "sent_text = sent_tokenize(contents)\n",
    "print(sent_text[:30])\n",
    "print([s for s in sent_text if 'X.' in s])\n",
    "\n",
    "# for sentence in sent_text:\n",
    "#     tokenized_text = nltk.word_tokenize(sent_text)\n",
    "# tagged = nltk.pos_tag(tokenized_text)\n",
    "# print(tagged)\n",
    "# print(tokenized_text[:40])"
   ]
  },
  {
   "cell_type": "code",
   "execution_count": null,
   "id": "5d180bc3",
   "metadata": {},
   "outputs": [],
   "source": [
    "from sentence_transformers import SentenceTransformer\n",
    "model = SentenceTransformer('all-MiniLM-L6-v2')\n",
    "sentence_embeddings = model.encode(sent_text)"
   ]
  },
  {
   "cell_type": "code",
   "execution_count": null,
   "id": "ece17a33",
   "metadata": {},
   "outputs": [],
   "source": [
    "from sklearn.manifold import TSNE\n",
    "tsne_emb = TSNE(n_components=2, perplexity=30.0, n_iter=1000, verbose=1).fit_transform(sentence_embeddings)"
   ]
  },
  {
   "cell_type": "code",
   "execution_count": null,
   "id": "cf0a8ad8",
   "metadata": {},
   "outputs": [],
   "source": [
    "print(len(sent_text))\n",
    "print(sentence_embeddings.shape)\n",
    "print(tsne_emb.shape)"
   ]
  },
  {
   "cell_type": "code",
   "execution_count": null,
   "id": "ea49cc09",
   "metadata": {},
   "outputs": [],
   "source": [
    "import seaborn as sns\n",
    "\n",
    "colors = sns.color_palette(\"Paired\", 16)\n",
    "print(colors)\n",
    "print('Num colors:', len(colors))"
   ]
  },
  {
   "cell_type": "code",
   "execution_count": null,
   "id": "dcc10368",
   "metadata": {},
   "outputs": [],
   "source": [
    "import re\n",
    "\n",
    "sents_by_chapter = []\n",
    "ch = 0\n",
    "new_ch = False\n",
    "ch_sent = []\n",
    "\n",
    "data = []\n",
    "for index, s in enumerate(sent_text):\n",
    "#     print(ch)\n",
    "    color = colors[ch]\n",
    "    label = \"Ch. {} (n={})\".format(str(ch).zfill(2), str(index).zfill(3))\n",
    "    data.append((tsne_emb[index], ch, sent_text[index], color, label))\n",
    "    new_ch = False\n",
    "    if re.match('(.*( ){2,}[IVX]{1,}\\.)|(^[IVX]{1,}\\.)', s):\n",
    "        print(s)\n",
    "#         sents_by_chapter.append(ch_sent)\n",
    "        new_ch = True\n",
    "        ch += 1\n",
    "\n",
    "# for s in sent_text:\n",
    "#     if new_ch:\n",
    "#         ch_sent = []\n",
    "#     ch_sent.append(s)\n",
    "#     new_ch = False\n",
    "#     if re.match('(.*( ){2,}[IVX]{1,}\\.)|(^[IVX]{1,}\\.)', s):\n",
    "#         print(s)\n",
    "#         sents_by_chapter.append(ch_sent)\n",
    "#         new_ch = True\n",
    "#         ch += 1\n",
    "        \n",
    "# sents_by_chapter.append(ch_sent)\n",
    "# ch += 1\n",
    "        \n",
    "print('\\n----\\n')\n",
    "\n",
    "print(data[13])\n",
    "print(data[4420])\n",
    "    \n",
    "print('\\n----\\n')\n",
    "# print(len(sents_by_chapter), 'Length of chapters list')\n",
    "print(ch, 'Chapter index')\n",
    "print(len(data))"
   ]
  },
  {
   "cell_type": "code",
   "execution_count": null,
   "id": "31316749",
   "metadata": {},
   "outputs": [],
   "source": [
    "for c in sents_by_chapter:\n",
    "    print(len(c))\n",
    "ch_chunks = []\n",
    "idx = 0\n",
    "for c in sents_by_chapter:\n",
    "    ch_chunks.append(idx)\n",
    "    idx += len(c)\n",
    "print(ch_chunks)\n",
    "print(len(ch_chunks))\n",
    "print(len(sents_by_chapter))\n",
    "\n",
    "sum = 0\n",
    "for i, a in enumerate(ch_chunks[:-1]):\n",
    "    sum += ch_chunks[i+1] - ch_chunks[i]\n",
    "print(sum)"
   ]
  },
  {
   "cell_type": "code",
   "execution_count": null,
   "id": "d8da5eb1",
   "metadata": {},
   "outputs": [],
   "source": [
    "# https://www.reneshbedre.com/blog/tsne.html\n",
    "\n",
    "# from bioinfokit.visuz import cluster\n",
    "# cluster.tsneplot(score=tsne_emb, dotsize=1)\n",
    "# # color_class = sentence_y\n",
    "# # cluster.tsneplot(score=fashion_tsne, colorlist=color_class, legendpos='upper right', legendanchor=(1.15, 1) )"
   ]
  },
  {
   "cell_type": "code",
   "execution_count": null,
   "id": "56dcaa1c",
   "metadata": {
    "scrolled": true
   },
   "outputs": [],
   "source": [
    "%matplotlib notebook\n",
    "\n",
    "# https://scipy-lectures.org/packages/scikit-learn/auto_examples/plot_tsne.html\n",
    "# Alternative visualization using SKLearn, in color, segmented by chapter\n",
    "\n",
    "from matplotlib import pyplot as plt\n",
    "import numpy as np\n",
    "import mplcursors\n",
    "import pandas as pd\n",
    "import textwrap\n",
    "\n",
    "# data = []\n",
    "# for a, b, c in some_function_that_yields_data():\n",
    "#     data.append([a, b, c])\n",
    "\n",
    "# df = pd.DataFrame(data, columns=['A', 'B', 'C'])\n",
    "\n",
    "# print(sents_by_chapter[14][-1])\n",
    "\n",
    "# data = []\n",
    "# for c_idx, n in enumerate(ch_chunks[2:-1]):\n",
    "#     print('Doing chapter {}'.format(c_idx))\n",
    "# #     print(c_idx, n)\n",
    "#     upper_bound = ch_chunks[2+c_idx+1]\n",
    "# #     print(n, upper_bound)\n",
    "#     print('Will get sentences {}-{}'.format(n, upper_bound))\n",
    "# #     for i in range(n, upper_bound):\n",
    "# #         s = sents_by_chapter[2+c_idx][i]\n",
    "# #         print(s)\n",
    "\n",
    "df = pd.DataFrame(data, columns=['tsne', 'ch', 'sent', 'color', 'label'])\n",
    "\n",
    "# print(df.head())\n",
    "\n",
    "fig, ax = plt.subplots()\n",
    "fig.set_dpi(150)\n",
    "# for c_idx, n in enumerate(ch_chunks[2:-1]):\n",
    "#     upper_bound = ch_chunks[2+c_idx+1]\n",
    "#     sents = tsne_emb[n+2:upper_bound]\n",
    "#     color = np.array([colors[c_idx]])\n",
    "#     num_sents = upper_bound - n\n",
    "#     l = \"Ch. {} (n={})\".format(str(c_idx+1).zfill(2), str(num_sents).zfill(3))\n",
    "#     sc = ax.scatter(*zip(*sents[2:]), c=color, label=l, s=4)\n",
    " \n",
    "# df[\"color\"] = df['ch'].apply(lambda x: colors[x])\n",
    "# print(df['ch'])\n",
    "# ax.scatter(df[xcol], df[ycol], c=df.Color)\n",
    "# for index, row in df.iterrows():\n",
    "# for group in df.groupby(['ch']):\n",
    "# #     print(row)\n",
    "# #     l = group[0]['label']\n",
    "#     print(len(group))\n",
    "sc = ax.scatter(*zip(*df['tsne']), c=df.color, s=2)#, label=df.label)\n",
    "\n",
    "cursor = mplcursors.cursor(hover=True)\n",
    "cursor.connect(\"add\", lambda sel: sel.annotation.set_text(\n",
    "    textwrap.fill(\n",
    "        sel.annotation.get_text() + '\\n' + df[\"sent\"][sel.index], 20\n",
    "    )\n",
    "))\n",
    "\n",
    "# l = df['label'].unique()\n",
    "# print(l)\n",
    "# print(sc.legend_elements()[0])\n",
    "\n",
    "# plt.legend(handles=sc.legend_elements()[0], labels=l)\n",
    "\n",
    "# ax.legend(bbox_to_anchor=(0.95, 0.7), markerscale=4, fontsize=6)\n",
    "plt.savefig('tsne_chapters.png')\n",
    "plt.show()"
   ]
  }
 ],
 "metadata": {
  "kernelspec": {
   "display_name": "conda_tensorflow_p36",
   "language": "python",
   "name": "conda_tensorflow_p36"
  },
  "language_info": {
   "codemirror_mode": {
    "name": "ipython",
    "version": 3
   },
   "file_extension": ".py",
   "mimetype": "text/x-python",
   "name": "python",
   "nbconvert_exporter": "python",
   "pygments_lexer": "ipython3",
   "version": "3.6.13"
  }
 },
 "nbformat": 4,
 "nbformat_minor": 5
}
