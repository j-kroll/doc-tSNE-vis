{
 "cells": [
  {
   "cell_type": "markdown",
   "id": "b5b05f68",
   "metadata": {},
   "source": [
    "# Sherlock"
   ]
  },
  {
   "cell_type": "code",
   "execution_count": null,
   "id": "4c42671d",
   "metadata": {},
   "outputs": [],
   "source": [
    "#!wget https://www.gutenberg.org/files/1661/1661-0.txt > sherlock.txt"
   ]
  },
  {
   "cell_type": "code",
   "execution_count": null,
   "id": "15336fc9",
   "metadata": {},
   "outputs": [],
   "source": [
    "!pip install -qU sentence-transformers bioinfokit"
   ]
  },
  {
   "cell_type": "code",
   "execution_count": null,
   "id": "fb218b8f",
   "metadata": {},
   "outputs": [],
   "source": [
    "from nltk import sent_tokenize, word_tokenize\n",
    "import nltk\n",
    "\n",
    "nltk.download('punkt')"
   ]
  },
  {
   "cell_type": "code",
   "execution_count": null,
   "id": "a83da37c",
   "metadata": {},
   "outputs": [],
   "source": [
    "f = open('sherlock.txt', 'r')\n",
    "contents = f.read().replace('\\n', ' ')\n",
    "print(contents[:2000])"
   ]
  },
  {
   "cell_type": "code",
   "execution_count": null,
   "id": "2dbbe4f6",
   "metadata": {},
   "outputs": [],
   "source": [
    "sent_text = sent_tokenize(contents)\n",
    "print(sent_text[:30])\n",
    "\n",
    "# for sentence in sent_text:\n",
    "#     tokenized_text = nltk.word_tokenize(sent_text)\n",
    "# tagged = nltk.pos_tag(tokenized_text)\n",
    "# print(tagged)\n",
    "# print(tokenized_text[:40])"
   ]
  },
  {
   "cell_type": "code",
   "execution_count": null,
   "id": "d8f2d353",
   "metadata": {},
   "outputs": [],
   "source": [
    "from sentence_transformers import SentenceTransformer\n",
    "model = SentenceTransformer('all-MiniLM-L6-v2')\n",
    "sentence_embeddings = model.encode(sent_text)"
   ]
  },
  {
   "cell_type": "code",
   "execution_count": null,
   "id": "e727e352",
   "metadata": {},
   "outputs": [],
   "source": [
    "print(sentence_embeddings.shape)"
   ]
  },
  {
   "cell_type": "code",
   "execution_count": null,
   "id": "b1d72e61",
   "metadata": {},
   "outputs": [],
   "source": [
    "from sklearn.manifold import TSNE\n",
    "tsne_emb = TSNE(n_components=2, perplexity=30.0, n_iter=1000, verbose=1).fit_transform(sentence_embeddings)"
   ]
  },
  {
   "cell_type": "code",
   "execution_count": null,
   "id": "eaf4c571",
   "metadata": {},
   "outputs": [],
   "source": [
    "# https://www.reneshbedre.com/blog/tsne.html\n",
    "\n",
    "# from bioinfokit.visuz import cluster\n",
    "# cluster.tsneplot(score=tsne_emb, dotsize=1)\n",
    "# # color_class = sentence_y\n",
    "# # cluster.tsneplot(score=fashion_tsne, colorlist=color_class, legendpos='upper right', legendanchor=(1.15, 1) )"
   ]
  },
  {
   "cell_type": "code",
   "execution_count": null,
   "id": "4b5a9922",
   "metadata": {},
   "outputs": [],
   "source": [
    "# https://scipy-lectures.org/packages/scikit-learn/auto_examples/plot_tsne.html\n",
    "# Alternative visualization using SKLearn, in color, clustered by every 500 sentences\n",
    "\n",
    "from matplotlib import pyplot as plt\n",
    "plt.figure(dpi=200)\n",
    "colors = 'r', 'g', 'b', 'cyan', 'm', 'y', 'k', 'gray', 'teal', 'orange', 'purple'\n",
    "for c_idx, n in enumerate(range(0,4500,500)):\n",
    "    sents = tsne_emb[n:n+500]\n",
    "    color = colors[c_idx]\n",
    "    l = \"{}-{}\".format(n, n+500)\n",
    "    plt.scatter(*zip(*sents), c=color, label=l, s=2)\n",
    "plt.legend(bbox_to_anchor=(1, 1))\n",
    "plt.savefig('tsne_color.png')\n",
    "plt.show()"
   ]
  },
  {
   "cell_type": "code",
   "execution_count": null,
   "id": "2ea4d704",
   "metadata": {},
   "outputs": [],
   "source": [
    "from IPython.display import Image\n",
    "Image(filename='tsne_2d.png') "
   ]
  }
 ],
 "metadata": {
  "kernelspec": {
   "display_name": "conda_tensorflow_p36",
   "language": "python",
   "name": "conda_tensorflow_p36"
  },
  "language_info": {
   "codemirror_mode": {
    "name": "ipython",
    "version": 3
   },
   "file_extension": ".py",
   "mimetype": "text/x-python",
   "name": "python",
   "nbconvert_exporter": "python",
   "pygments_lexer": "ipython3",
   "version": "3.6.13"
  }
 },
 "nbformat": 4,
 "nbformat_minor": 5
}
